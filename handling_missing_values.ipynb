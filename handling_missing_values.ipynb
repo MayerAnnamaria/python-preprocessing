{
  "nbformat": 4,
  "nbformat_minor": 0,
  "metadata": {
    "colab": {
      "provenance": [],
      "authorship_tag": "ABX9TyNSf6rk4qoDZ2Ni/ZpqLf4W",
      "include_colab_link": true
    },
    "kernelspec": {
      "name": "python3",
      "display_name": "Python 3"
    },
    "language_info": {
      "name": "python"
    }
  },
  "cells": [
    {
      "cell_type": "markdown",
      "metadata": {
        "id": "view-in-github",
        "colab_type": "text"
      },
      "source": [
        "<a href=\"https://colab.research.google.com/github/MayerAnnamaria/python-preprocessing/blob/main/handling_missing_values.ipynb\" target=\"_parent\"><img src=\"https://colab.research.google.com/assets/colab-badge.svg\" alt=\"Open In Colab\"/></a>"
      ]
    },
    {
      "cell_type": "code",
      "execution_count": null,
      "metadata": {
        "id": "hKfcOMHnKt3q"
      },
      "outputs": [],
      "source": [
        "# Fill missing values with the mean\n",
        "df.fillna(df.mean(), inplace=True)\n",
        "\n",
        "# Fill missing values with the median\n",
        "df.fillna(df.median(), inplace=True)\n",
        "\n",
        "# Fill missing values with the mode\n",
        "df.fillna(df.mode().iloc[0], inplace=True)\n",
        "\n",
        "#Use the last known value to fill the missing values (forward fill)\n",
        "df.fillna(method='ffill', inplace=True)\n",
        "\n",
        "#Use the next known value to fill the missing values (backward fill)\n",
        "df.fillna(method='bfill', inplace=True)\n"
      ]
    }
  ]
}