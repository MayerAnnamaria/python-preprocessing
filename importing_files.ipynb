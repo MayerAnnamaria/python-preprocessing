{
  "nbformat": 4,
  "nbformat_minor": 0,
  "metadata": {
    "colab": {
      "provenance": [],
      "toc_visible": true,
      "authorship_tag": "ABX9TyO5ztf+18XVQzNwPUcl9cAE",
      "include_colab_link": true
    },
    "kernelspec": {
      "name": "python3",
      "display_name": "Python 3"
    },
    "language_info": {
      "name": "python"
    }
  },
  "cells": [
    {
      "cell_type": "markdown",
      "metadata": {
        "id": "view-in-github",
        "colab_type": "text"
      },
      "source": [
        "<a href=\"https://colab.research.google.com/github/MayerAnnamaria/python-preprocessing/blob/main/importing_files.ipynb\" target=\"_parent\"><img src=\"https://colab.research.google.com/assets/colab-badge.svg\" alt=\"Open In Colab\"/></a>"
      ]
    },
    {
      "cell_type": "markdown",
      "source": [
        "# Import from GoogleDrive"
      ],
      "metadata": {
        "id": "iSU7gHcYsSGl"
      }
    },
    {
      "cell_type": "code",
      "execution_count": null,
      "metadata": {
        "id": "BAGfE4OTsNW6"
      },
      "outputs": [],
      "source": [
        "#!pip install pydrive2"
      ]
    },
    {
      "cell_type": "code",
      "source": [
        "# Import PyDrive2 and associated libraries.\n",
        "# This only needs to be done once per notebook.\n",
        "from pydrive2.auth import GoogleAuth\n",
        "from pydrive2.drive import GoogleDrive\n",
        "from google.colab import auth\n",
        "from oauth2client.client import GoogleCredentials\n",
        "\n",
        "# Authenticate and create the PyDrive2 client.\n",
        "# This only needs to be done once per notebook.\n",
        "auth.authenticate_user()\n",
        "gauth = GoogleAuth()\n",
        "gauth.credentials = GoogleCredentials.get_application_default()\n",
        "drive = GoogleDrive(gauth)\n",
        "\n",
        "# Mount Google Drive\n",
        "from google.colab import drive\n",
        "drive.mount('/content/drive/')"
      ],
      "metadata": {
        "colab": {
          "base_uri": "https://localhost:8080/"
        },
        "id": "Ud4AwRgIse8M",
        "outputId": "488aa75e-4781-49b9-9b7f-79dfa7f95c67"
      },
      "execution_count": 1,
      "outputs": [
        {
          "output_type": "stream",
          "name": "stdout",
          "text": [
            "Mounted at /content/drive/\n"
          ]
        }
      ]
    },
    {
      "cell_type": "code",
      "source": [
        "import os  # this library will help navigating the file system\n",
        "%cd /content/drive/MyDrive/_mypython/\n",
        "# setting working directory path: this is the path to your drive\n",
        "print(os.listdir())  # lists all the files and folders in the corrent folder"
      ],
      "metadata": {
        "colab": {
          "base_uri": "https://localhost:8080/"
        },
        "id": "crxBp34BsoHF",
        "outputId": "f045d81d-e282-405e-83da-a260670f8e39"
      },
      "execution_count": 7,
      "outputs": [
        {
          "output_type": "stream",
          "name": "stdout",
          "text": [
            "/content/drive/MyDrive/_mypython\n",
            "['.ipynb_checkpoints', 'Git.gdoc', 'mytest.ipynb', 'data_preprocessing.ipynb', 'python-rendszerezve', 'Copy of All-my-python-knowledge_saved_origi.ipynb', 'Book1.xlsx']\n"
          ]
        }
      ]
    },
    {
      "cell_type": "markdown",
      "source": [
        "##Import excel file from googleDrive"
      ],
      "metadata": {
        "id": "8KkBY3HPtSNX"
      }
    },
    {
      "cell_type": "code",
      "source": [
        "import pandas as pd\n",
        "from google.colab import drive\n",
        "\n",
        "# Define the file path\n",
        "url = '/content/drive/MyDrive/_mypython/Book1.xlsx'\n",
        "\n",
        "# Load the Excel file\n",
        "df = pd.read_excel(url)\n",
        "\n",
        "# Print all columns\n",
        "print(df.columns)\n",
        "\n",
        "# Print the data\n",
        "print(df)\n",
        "print(\"\\n\")\n"
      ],
      "metadata": {
        "colab": {
          "base_uri": "https://localhost:8080/"
        },
        "id": "LPMOR3EHtRjh",
        "outputId": "47ea5c34-af15-4446-9257-1ffc0dce4acb"
      },
      "execution_count": 11,
      "outputs": [
        {
          "output_type": "stream",
          "name": "stdout",
          "text": [
            "Index(['test1', 'test2'], dtype='object')\n",
            "   test1  test2\n",
            "0      1      3\n",
            "1      2      4\n",
            "\n",
            "\n"
          ]
        }
      ]
    },
    {
      "cell_type": "code",
      "source": [],
      "metadata": {
        "id": "8j2jGHClJNTN"
      },
      "execution_count": null,
      "outputs": []
    }
  ]
}